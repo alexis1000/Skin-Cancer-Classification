{
  "nbformat": 4,
  "nbformat_minor": 0,
  "metadata": {
    "colab": {
      "name": "SplitTheImagesFinal.ipynb",
      "provenance": [],
      "collapsed_sections": [],
      "machine_shape": "hm"
    },
    "kernelspec": {
      "name": "python3",
      "display_name": "Python 3"
    }
  },
  "cells": [
    {
      "cell_type": "code",
      "metadata": {
        "id": "SNVppnym2zK1",
        "colab_type": "code",
        "colab": {
          "base_uri": "https://localhost:8080/",
          "height": 121
        },
        "outputId": "e9299aa8-c11e-4231-aae6-c6d1a5e864fd"
      },
      "source": [
        "from google.colab import drive\n",
        "drive.mount('/content/drive/',force_remount=True)"
      ],
      "execution_count": null,
      "outputs": [
        {
          "output_type": "stream",
          "text": [
            "Go to this URL in a browser: https://accounts.google.com/o/oauth2/auth?client_id=947318989803-6bn6qk8qdgf4n4g3pfee6491hc0brc4i.apps.googleusercontent.com&redirect_uri=urn%3aietf%3awg%3aoauth%3a2.0%3aoob&response_type=code&scope=email%20https%3a%2f%2fwww.googleapis.com%2fauth%2fdocs.test%20https%3a%2f%2fwww.googleapis.com%2fauth%2fdrive%20https%3a%2f%2fwww.googleapis.com%2fauth%2fdrive.photos.readonly%20https%3a%2f%2fwww.googleapis.com%2fauth%2fpeopleapi.readonly\n",
            "\n",
            "Enter your authorization code:\n",
            "··········\n",
            "Mounted at /content/drive/\n"
          ],
          "name": "stdout"
        }
      ]
    },
    {
      "cell_type": "code",
      "metadata": {
        "id": "2wO9joDwbr7v",
        "colab_type": "code",
        "colab": {}
      },
      "source": [
        "!pip install -q keras"
      ],
      "execution_count": null,
      "outputs": []
    },
    {
      "cell_type": "code",
      "metadata": {
        "id": "C7zBoHPNb8xw",
        "colab_type": "code",
        "colab": {}
      },
      "source": [
        "import csv\n",
        "import numpy as np\n",
        "import tensorflow as tf\n",
        "from tensorflow.keras.preprocessing.image import ImageDataGenerator\n",
        "from tensorflow.keras import layers\n",
        "from tensorflow.keras import Model\n",
        "from os import getcwd\n",
        "import pandas as pd\n",
        "import os\n",
        "import shutil\n",
        "#For splitting data\n",
        "import random\n",
        "from shutil import copyfile"
      ],
      "execution_count": null,
      "outputs": []
    },
    {
      "cell_type": "code",
      "metadata": {
        "id": "QHgBJoajjOEa",
        "colab_type": "code",
        "colab": {
          "base_uri": "https://localhost:8080/",
          "height": 195
        },
        "outputId": "c3745fec-9712-4fda-dd48-75db0fab6978"
      },
      "source": [
        "dtypes = {\n",
        "        'image': 'str',\n",
        "        'MEL': 'uint32',\n",
        "        'NV': 'uint32',\n",
        "        'BCC': 'uint32',\n",
        "        'AKIEC': 'uint32',\n",
        "        'BKL': 'uint32',\n",
        "        'DF': 'uint32',\n",
        "        'VASC': 'uint32',\n",
        "\n",
        "}\n",
        "train_df = pd.read_csv('/content/drive/My Drive/Colab Notebooks/ TASK 3/Training/ISIC2018_Task3_Training_GroundTruth/ISIC2018_Task3_Training_GroundTruth.csv', dtype = dtypes)    # reading the csv file\n",
        "train_df.head()      # printing first five rows of the file\n"
      ],
      "execution_count": null,
      "outputs": [
        {
          "output_type": "execute_result",
          "data": {
            "text/html": [
              "<div>\n",
              "<style scoped>\n",
              "    .dataframe tbody tr th:only-of-type {\n",
              "        vertical-align: middle;\n",
              "    }\n",
              "\n",
              "    .dataframe tbody tr th {\n",
              "        vertical-align: top;\n",
              "    }\n",
              "\n",
              "    .dataframe thead th {\n",
              "        text-align: right;\n",
              "    }\n",
              "</style>\n",
              "<table border=\"1\" class=\"dataframe\">\n",
              "  <thead>\n",
              "    <tr style=\"text-align: right;\">\n",
              "      <th></th>\n",
              "      <th>image</th>\n",
              "      <th>MEL</th>\n",
              "      <th>NV</th>\n",
              "      <th>BCC</th>\n",
              "      <th>AKIEC</th>\n",
              "      <th>BKL</th>\n",
              "      <th>DF</th>\n",
              "      <th>VASC</th>\n",
              "    </tr>\n",
              "  </thead>\n",
              "  <tbody>\n",
              "    <tr>\n",
              "      <th>0</th>\n",
              "      <td>ISIC_0024306</td>\n",
              "      <td>0</td>\n",
              "      <td>1</td>\n",
              "      <td>0</td>\n",
              "      <td>0</td>\n",
              "      <td>0</td>\n",
              "      <td>0</td>\n",
              "      <td>0</td>\n",
              "    </tr>\n",
              "    <tr>\n",
              "      <th>1</th>\n",
              "      <td>ISIC_0024307</td>\n",
              "      <td>0</td>\n",
              "      <td>1</td>\n",
              "      <td>0</td>\n",
              "      <td>0</td>\n",
              "      <td>0</td>\n",
              "      <td>0</td>\n",
              "      <td>0</td>\n",
              "    </tr>\n",
              "    <tr>\n",
              "      <th>2</th>\n",
              "      <td>ISIC_0024308</td>\n",
              "      <td>0</td>\n",
              "      <td>1</td>\n",
              "      <td>0</td>\n",
              "      <td>0</td>\n",
              "      <td>0</td>\n",
              "      <td>0</td>\n",
              "      <td>0</td>\n",
              "    </tr>\n",
              "    <tr>\n",
              "      <th>3</th>\n",
              "      <td>ISIC_0024309</td>\n",
              "      <td>0</td>\n",
              "      <td>1</td>\n",
              "      <td>0</td>\n",
              "      <td>0</td>\n",
              "      <td>0</td>\n",
              "      <td>0</td>\n",
              "      <td>0</td>\n",
              "    </tr>\n",
              "    <tr>\n",
              "      <th>4</th>\n",
              "      <td>ISIC_0024310</td>\n",
              "      <td>1</td>\n",
              "      <td>0</td>\n",
              "      <td>0</td>\n",
              "      <td>0</td>\n",
              "      <td>0</td>\n",
              "      <td>0</td>\n",
              "      <td>0</td>\n",
              "    </tr>\n",
              "  </tbody>\n",
              "</table>\n",
              "</div>"
            ],
            "text/plain": [
              "          image  MEL  NV  BCC  AKIEC  BKL  DF  VASC\n",
              "0  ISIC_0024306    0   1    0      0    0   0     0\n",
              "1  ISIC_0024307    0   1    0      0    0   0     0\n",
              "2  ISIC_0024308    0   1    0      0    0   0     0\n",
              "3  ISIC_0024309    0   1    0      0    0   0     0\n",
              "4  ISIC_0024310    1   0    0      0    0   0     0"
            ]
          },
          "metadata": {
            "tags": []
          },
          "execution_count": 4
        }
      ]
    },
    {
      "cell_type": "code",
      "metadata": {
        "id": "Ih5V3jhFQPWD",
        "colab_type": "code",
        "colab": {
          "base_uri": "https://localhost:8080/",
          "height": 134
        },
        "outputId": "19bcf86c-283d-4b2c-ba55-5d748bc4c9a6"
      },
      "source": [
        "def create_folders():\n",
        "    categories = np.array(['MEL','NV','BCC','AKIEC','BKL','DF','VASC'])\n",
        "    for i in categories:\n",
        "        folder = r\"../content/drive/My Drive/Colab Notebooks/ TASK 3/Training/\" + str(i)\n",
        "        if not os.path.exists(folder):\n",
        "            print('created folder', i)\n",
        "            os.mkdir(folder)\n",
        "        else:\n",
        "            print( str(i), ' exists!')\n",
        "create_folders()"
      ],
      "execution_count": null,
      "outputs": [
        {
          "output_type": "stream",
          "text": [
            "created folder MEL\n",
            "created folder NV\n",
            "created folder BCC\n",
            "created folder AKIEC\n",
            "created folder BKL\n",
            "created folder DF\n",
            "created folder VASC\n"
          ],
          "name": "stdout"
        }
      ]
    },
    {
      "cell_type": "code",
      "metadata": {
        "id": "hnJQnVEHFCH0",
        "colab_type": "code",
        "colab": {
          "base_uri": "https://localhost:8080/",
          "height": 252
        },
        "outputId": "9887de34-1c4d-4a06-862a-fb7ccff0b488"
      },
      "source": [
        "#image: an input image identifier of the form ISIC_\n",
        "#MEL: “Melanoma” diagnosis confidence\n",
        "#NV: “Melanocytic nevus” diagnosis confidence\n",
        "#BCC: “Basal cell carcinoma” diagnosis confidence\n",
        "#AKIEC: “Actinic keratosis / Bowen’s disease (intraepithelial carcinoma)” diagnosis confidence\n",
        "#BKL: “Benign keratosis (solar lentigo / seborrheic keratosis / lichen planus-like keratosis)” diagnosis confidence\n",
        "#DF: “Dermatofibroma” diagnosis confidence\n",
        "#VASC: “Vascular lesion” diagnosis confidence\n",
        "COUNT_MEL=0\n",
        "COUNT_BCC=0\n",
        "COUNT_NV=0\n",
        "COUNT_BKL=0\n",
        "COUNT_DF=0\n",
        "COUNT_VASC=0\n",
        "COUNT_AKIEC=0\n",
        "directory = r'/content/drive/My Drive/Colab Notebooks/ TASK 3/Training/ISIC2018_Task3_Training_Input'\n",
        "training_files=os.listdir(directory)\n",
        "with open('/content/drive/My Drive/Colab Notebooks/ TASK 3/Training/ISIC2018_Task3_Training_GroundTruth/ISIC2018_Task3_Training_GroundTruth.csv') as csvfile:\n",
        "    readCSV = csv.reader(csvfile, delimiter=',')\n",
        "    for row in readCSV:\n",
        "       if row[1] == '1.0':\n",
        "         name_file_to_copy=row[0]\n",
        "         str1=\".jpg\"\n",
        "         file_to_copy=name_file_to_copy+str1\n",
        "         for f in training_files:\n",
        "               if f == file_to_copy:\n",
        "                SOURCE=directory+'/'+f\n",
        "                shutil.move(SOURCE, '/content/drive/My Drive/Colab Notebooks/ TASK 3/Training/MEL/')\n",
        "                COUNT_MEL=COUNT_MEL+1\n",
        "               \n",
        "\n",
        "       elif row[2] == '1.0':\n",
        "         name_file_to_copy=row[0]\n",
        "         str1=\".jpg\"\n",
        "         file_to_copy=name_file_to_copy+str1\n",
        "         for f in training_files:\n",
        "               if f == file_to_copy:\n",
        "                SOURCE=directory+'/'+f\n",
        "                shutil.move(SOURCE, '/content/drive/My Drive/Colab Notebooks/ TASK 3/Training/NV/')\n",
        "                COUNT_NV=COUNT_NV+1\n",
        "                \n",
        "\n",
        "       elif row[3] == '1.0':\n",
        "         name_file_to_copy=row[0]\n",
        "         str1=\".jpg\"\n",
        "         file_to_copy=name_file_to_copy+str1\n",
        "         for f in training_files:\n",
        "               if f == file_to_copy:\n",
        "                SOURCE=directory+'/'+f\n",
        "                shutil.move(SOURCE, '/content/drive/My Drive/Colab Notebooks/ TASK 3/Training/BCC/')\n",
        "                COUNT_BCC=COUNT_BCC+1\n",
        "               \n",
        "        \n",
        "       elif row[4] == '1.0':\n",
        "         name_file_to_copy=row[0]\n",
        "         str1=\".jpg\"\n",
        "         file_to_copy=name_file_to_copy+str1\n",
        "         for f in training_files:\n",
        "               if f == file_to_copy:\n",
        "                SOURCE=directory+'/'+f\n",
        "                shutil.move(SOURCE, '/content/drive/My Drive/Colab Notebooks/ TASK 3/Training/AKIEC/')\n",
        "                COUNT_AKIEC=COUNT_AKIEC+1\n",
        "                \n",
        "        \n",
        "       elif row[5] == '1.0':\n",
        "         name_file_to_copy=row[0]\n",
        "         str1=\".jpg\"\n",
        "         file_to_copy=name_file_to_copy+str1\n",
        "         for f in training_files:\n",
        "               if f == file_to_copy:\n",
        "                SOURCE=directory+'/'+f\n",
        "                shutil.move(SOURCE, '/content/drive/My Drive/Colab Notebooks/ TASK 3/Training/BKL/')\n",
        "                COUNT_BKL=COUNT_BKL+1\n",
        "                \n",
        "\n",
        "       elif row[6] == '1.0':\n",
        "         name_file_to_copy=row[0]\n",
        "         str1=\".jpg\"\n",
        "         file_to_copy=name_file_to_copy+str1\n",
        "         for f in training_files:\n",
        "               if f == file_to_copy:\n",
        "                SOURCE=directory+'/'+f\n",
        "                shutil.move(SOURCE, '/content/drive/My Drive/Colab Notebooks/ TASK 3/Training/DF/')\n",
        "                COUNT_DF=COUNT_DF+1\n",
        "                \n",
        "       else:\n",
        "         name_file_to_copy=row[0]\n",
        "         str1=\".jpg\"\n",
        "         file_to_copy=name_file_to_copy+str1\n",
        "         for f in training_files:\n",
        "               if f == file_to_copy:\n",
        "                SOURCE=directory+'/'+f\n",
        "                shutil.move(SOURCE, '/content/drive/My Drive/Colab Notebooks/ TASK 3/Training/VASC/')\n",
        "                COUNT_VASC=COUNT_VASC+1\n",
        "                \n",
        "        \n",
        "        \n",
        "print(\"MEL=\")\n",
        "print(COUNT_MEL)\n",
        "print(\"NV=\")\n",
        "print(COUNT_NV)\n",
        "print(\"BCC=\")\n",
        "print(COUNT_BCC)\n",
        "print(\"AKIEC=\")\n",
        "print(COUNT_AKIEC)\n",
        "print(\"BKL=\")\n",
        "print(COUNT_BKL)\n",
        "print(\"DF=\")\n",
        "print(COUNT_DF)\n",
        "print(\"VASC=\")\n",
        "print(COUNT_VASC)\n",
        "    \n",
        "  \n"
      ],
      "execution_count": null,
      "outputs": [
        {
          "output_type": "stream",
          "text": [
            "MEL=\n",
            "1113\n",
            "NV=\n",
            "6705\n",
            "BCC=\n",
            "514\n",
            "AKIEC=\n",
            "327\n",
            "BKL=\n",
            "1099\n",
            "DF=\n",
            "115\n",
            "VASC=\n",
            "142\n"
          ],
          "name": "stdout"
        }
      ]
    },
    {
      "cell_type": "code",
      "metadata": {
        "id": "1h7uiOcDIMMq",
        "colab_type": "code",
        "colab": {
          "base_uri": "https://localhost:8080/",
          "height": 168
        },
        "outputId": "1e007d42-7491-4b96-c6ce-213b0b5ceff2"
      },
      "source": [
        "MEL1=len(os.listdir('/content/drive/My Drive/Colab Notebooks/ TASK 3/Training/MEL/'))\n",
        "print(MEL1)\n",
        "NV1=len(os.listdir('/content/drive/My Drive/Colab Notebooks/ TASK 3/Training/NV/'))\n",
        "print(NV1)\n",
        "BCC1=len(os.listdir('/content/drive/My Drive/Colab Notebooks/ TASK 3/Training/BCC/'))\n",
        "print(BCC1)\n",
        "AKIEC1=len(os.listdir('/content/drive/My Drive/Colab Notebooks/ TASK 3/Training/AKIEC/'))\n",
        "print(AKIEC1)\n",
        "BKL1=len(os.listdir('/content/drive/My Drive/Colab Notebooks/ TASK 3/Training/BKL/'))\n",
        "print(BKL1)\n",
        "DF1=len(os.listdir('/content/drive/My Drive/Colab Notebooks/ TASK 3/Training/DF/'))\n",
        "print(DF1)\n",
        "VASC1=len(os.listdir('/content/drive/My Drive/Colab Notebooks/ TASK 3/Training/VASC/'))\n",
        "print(VASC1)\n",
        "print(\"Total number of images initially=\")\n",
        "total_initial=MEL1+NV1+BCC1+AKIEC1+BKL1+DF1+VASC1\n",
        "print(total_initial)\n"
      ],
      "execution_count": null,
      "outputs": [
        {
          "output_type": "stream",
          "text": [
            "1113\n",
            "6705\n",
            "514\n",
            "327\n",
            "1099\n",
            "115\n",
            "142\n",
            "Total number of images initially=\n",
            "10015\n"
          ],
          "name": "stdout"
        }
      ]
    },
    {
      "cell_type": "code",
      "metadata": {
        "id": "1njbrDnLDFOo",
        "colab_type": "code",
        "colab": {
          "base_uri": "https://localhost:8080/",
          "height": 151
        },
        "outputId": "be018474-56bc-4dd0-b9cf-3d85dcb2e7e1"
      },
      "source": [
        "MEL2=len(os.listdir('/content/drive/My Drive/Colab Notebooks/ TASK 3/Training/CLASSES/MEL/'))\n",
        "print(MEL2)\n",
        "BCC2=len(os.listdir('/content/drive/My Drive/Colab Notebooks/ TASK 3/Training/CLASSES/BCC/'))\n",
        "print(BCC2)\n",
        "AKIEC2=len(os.listdir('/content/drive/My Drive/Colab Notebooks/ TASK 3/Training/CLASSES/AKIEC/'))\n",
        "print(AKIEC2)\n",
        "BKL2=len(os.listdir('/content/drive/My Drive/Colab Notebooks/ TASK 3/Training/CLASSES/BKL/'))\n",
        "print(BKL2)\n",
        "DF2=len(os.listdir('/content/drive/My Drive/Colab Notebooks/ TASK 3/Training/CLASSES/DF/'))\n",
        "print(DF2)\n",
        "VASC2=len(os.listdir('/content/drive/My Drive/Colab Notebooks/ TASK 3/Training/CLASSES/VASC/'))\n",
        "print(VASC2)\n",
        "print(\"Total number of added images=\")\n",
        "total_added=MEL2+BCC2+AKIEC2+BKL2+DF2+VASC2\n",
        "print(total_added)"
      ],
      "execution_count": null,
      "outputs": [
        {
          "output_type": "stream",
          "text": [
            "2807\n",
            "2794\n",
            "733\n",
            "1123\n",
            "123\n",
            "111\n",
            "Total number of added images=\n",
            "7691\n"
          ],
          "name": "stdout"
        }
      ]
    },
    {
      "cell_type": "code",
      "metadata": {
        "id": "JjoH8gYFEVTB",
        "colab_type": "code",
        "colab": {
          "base_uri": "https://localhost:8080/",
          "height": 252
        },
        "outputId": "fe440370-b25c-4abe-a3f1-4beae63fe82e"
      },
      "source": [
        "print(\"Total images in MEL:\")\n",
        "TOTAL_MEL=MEL1+MEL2\n",
        "print(TOTAL_MEL)\n",
        "\n",
        "print(\"Total images in BCC:\")\n",
        "TOTAL_BCC=BCC1+BCC2\n",
        "print(TOTAL_BCC)\n",
        "\n",
        "print(\"Total images in BKL:\")\n",
        "TOTAL_BKL=BKL1+BKL2\n",
        "print(TOTAL_BKL)\n",
        "\n",
        "print(\"Total images in DF:\")\n",
        "TOTAL_DF=DF1+DF2\n",
        "print(TOTAL_DF)\n",
        "\n",
        "print(\"Total images in VASC:\")\n",
        "TOTAL_VASC=VASC1+VASC2\n",
        "print(TOTAL_VASC)\n",
        "\n",
        "print(\"Total images in AKIEC:\")\n",
        "TOTAL_AKIEC=AKIEC1+AKIEC2\n",
        "print(TOTAL_AKIEC)\n",
        "\n",
        "print(\"Total images in NV:\")\n",
        "\n",
        "print(NV1)"
      ],
      "execution_count": null,
      "outputs": [
        {
          "output_type": "stream",
          "text": [
            "Total images in MEL:\n",
            "3920\n",
            "Total images in BCC:\n",
            "3308\n",
            "Total images in BKL:\n",
            "2222\n",
            "Total images in DF:\n",
            "238\n",
            "Total images in VASC:\n",
            "253\n",
            "Total images in AKIEC:\n",
            "1060\n",
            "Total images in NV:\n",
            "6705\n"
          ],
          "name": "stdout"
        }
      ]
    },
    {
      "cell_type": "code",
      "metadata": {
        "id": "Np3F3BC6EbGd",
        "colab_type": "code",
        "colab": {}
      },
      "source": [
        "directory_MEL = r'/content/drive/My Drive/Colab Notebooks/ TASK 3/Training/CLASSES/MEL'\n",
        "files_MEL=os.listdir(directory_MEL)\n",
        "for f in files_MEL:\n",
        "  SOURCE=directory_MEL+'/'+f\n",
        "  shutil.move(SOURCE, '/content/drive/My Drive/Colab Notebooks/ TASK 3/Training/MEL/')\n",
        "\n",
        "\n",
        "directory_BCC = r'/content/drive/My Drive/Colab Notebooks/ TASK 3/Training/CLASSES/BCC'\n",
        "files_BCC=os.listdir(directory_BCC)\n",
        "for f in files_BCC:\n",
        "  SOURCE=directory_BCC+'/'+f\n",
        "  shutil.move(SOURCE, '/content/drive/My Drive/Colab Notebooks/ TASK 3/Training/BCC/')\n",
        "\n",
        "\n",
        "\n",
        "directory_BKL = r'/content/drive/My Drive/Colab Notebooks/ TASK 3/Training/CLASSES/BKL'\n",
        "files_BKL=os.listdir(directory_BKL)\n",
        "for f in files_BKL:\n",
        "  SOURCE=directory_BKL+'/'+f\n",
        "  shutil.move(SOURCE, '/content/drive/My Drive/Colab Notebooks/ TASK 3/Training/BKL/')\n",
        "\n",
        "\n",
        "directory_DF = r'/content/drive/My Drive/Colab Notebooks/ TASK 3/Training/CLASSES/DF'\n",
        "files_DF=os.listdir(directory_DF)\n",
        "for f in files_DF:\n",
        "  SOURCE=directory_DF+'/'+f\n",
        "  shutil.move(SOURCE, '/content/drive/My Drive/Colab Notebooks/ TASK 3/Training/DF/')\n",
        "\n",
        "directory_VASC = r'/content/drive/My Drive/Colab Notebooks/ TASK 3/Training/CLASSES/VASC'\n",
        "files_VASC=os.listdir(directory_VASC)\n",
        "for f in files_VASC:\n",
        "  SOURCE=directory_VASC+'/'+f\n",
        "  shutil.move(SOURCE, '/content/drive/My Drive/Colab Notebooks/ TASK 3/Training/VASC/')\n",
        "\n",
        "\n",
        "\n",
        "directory_AKIEC = r'/content/drive/My Drive/Colab Notebooks/ TASK 3/Training/CLASSES/AKIEC'\n",
        "files_AKIEC=os.listdir(directory_AKIEC)\n",
        "for f in files_AKIEC:\n",
        "  SOURCE=directory_AKIEC+'/'+f\n",
        "  shutil.move(SOURCE, '/content/drive/My Drive/Colab Notebooks/ TASK 3/Training/AKIEC/')\n",
        "\n",
        "\n"
      ],
      "execution_count": null,
      "outputs": []
    },
    {
      "cell_type": "code",
      "metadata": {
        "id": "efaMI4eIHQ6r",
        "colab_type": "code",
        "colab": {
          "base_uri": "https://localhost:8080/",
          "height": 168
        },
        "outputId": "ac552066-9bd7-4426-a672-f704bedd723f"
      },
      "source": [
        "MEL=len(os.listdir('/content/drive/My Drive/Colab Notebooks/ TASK 3/Training/MEL/'))\n",
        "print(MEL)\n",
        "NV=len(os.listdir('/content/drive/My Drive/Colab Notebooks/ TASK 3/Training/NV/'))\n",
        "print(NV)\n",
        "BCC=len(os.listdir('/content/drive/My Drive/Colab Notebooks/ TASK 3/Training/BCC/'))\n",
        "print(BCC)\n",
        "AKIEC=len(os.listdir('/content/drive/My Drive/Colab Notebooks/ TASK 3/Training/AKIEC/'))\n",
        "print(AKIEC)\n",
        "BKL=len(os.listdir('/content/drive/My Drive/Colab Notebooks/ TASK 3/Training/BKL/'))\n",
        "print(BKL)\n",
        "DF=len(os.listdir('/content/drive/My Drive/Colab Notebooks/ TASK 3/Training/DF/'))\n",
        "print(DF)\n",
        "VASC=len(os.listdir('/content/drive/My Drive/Colab Notebooks/ TASK 3/Training/VASC/'))\n",
        "print(VASC)\n",
        "print(\"Total number of images =\")\n",
        "total=MEL+NV+BCC+AKIEC+BKL+DF+VASC\n",
        "print(total)\n",
        "\n",
        "\n"
      ],
      "execution_count": null,
      "outputs": [
        {
          "output_type": "stream",
          "text": [
            "3920\n",
            "6705\n",
            "3308\n",
            "1060\n",
            "2222\n",
            "238\n",
            "253\n",
            "Total number of images =\n",
            "17706\n"
          ],
          "name": "stdout"
        }
      ]
    },
    {
      "cell_type": "code",
      "metadata": {
        "id": "mDt2dJP71pBb",
        "colab_type": "code",
        "colab": {
          "base_uri": "https://localhost:8080/",
          "height": 34
        },
        "outputId": "2aaa33f7-2231-4312-a0b6-7d93f2247744"
      },
      "source": [
        "#Splitting the training images into training set and validation set\n",
        "# Using os.mkdir to create directories\n",
        "\n",
        "\n",
        "try:\n",
        "    os.mkdir('/content/drive/My Drive/Colab Notebooks/Classification')\n",
        "    os.mkdir('/content/drive/My Drive/Colab Notebooks/Classification/Skin_Cancer')\n",
        "    os.mkdir('/content/drive/My Drive/Colab Notebooks/Classification/Skin_Cancer/training')\n",
        "    os.mkdir('/content/drive/My Drive/Colab Notebooks/Classification/Skin_Cancer/validation')\n",
        "    os.mkdir('/content/drive/My Drive/Colab Notebooks/Classification/Skin_Cancer/training/MEL')\n",
        "    os.mkdir('/content/drive/My Drive/Colab Notebooks/Classification/Skin_Cancer/training/NV')\n",
        "    os.mkdir('/content/drive/My Drive/Colab Notebooks/Classification/Skin_Cancer/training/BCC')\n",
        "    os.mkdir('/content/drive/My Drive/Colab Notebooks/Classification/Skin_Cancer/training/AKIEC')\n",
        "    os.mkdir('/content/drive/My Drive/Colab Notebooks/Classification/Skin_Cancer/training/BKL')\n",
        "    os.mkdir('/content/drive/My Drive/Colab Notebooks/Classification/Skin_Cancer/training/DF')\n",
        "    os.mkdir('/content/drive/My Drive/Colab Notebooks/Classification/Skin_Cancer/training/VASC')\n",
        "    os.mkdir('/content/drive/My Drive/Colab Notebooks/Classification/Skin_Cancer/validation/MEL')\n",
        "    os.mkdir('/content/drive/My Drive/Colab Notebooks/Classification/Skin_Cancer/validation/NV')\n",
        "    os.mkdir('/content/drive/My Drive/Colab Notebooks/Classification/Skin_Cancer/validation/BCC')\n",
        "    os.mkdir('/content/drive/My Drive/Colab Notebooks/Classification/Skin_Cancer/validation/AKIEC')\n",
        "    os.mkdir('/content/drive/My Drive/Colab Notebooks/Classification/Skin_Cancer/validation/BKL')\n",
        "    os.mkdir('/content/drive/My Drive/Colab Notebooks/Classification/Skin_Cancer/validation/DF')\n",
        "    os.mkdir('/content/drive/My Drive/Colab Notebooks/Classification/Skin_Cancer/validation/VASC')\n",
        "    print(\"Path is created\")\n",
        "except OSError:\n",
        "    pass\n"
      ],
      "execution_count": null,
      "outputs": [
        {
          "output_type": "stream",
          "text": [
            "Path is created\n"
          ],
          "name": "stdout"
        }
      ]
    },
    {
      "cell_type": "code",
      "metadata": {
        "id": "Qem7AWCG8NGK",
        "colab_type": "code",
        "colab": {
          "base_uri": "https://localhost:8080/",
          "height": 134
        },
        "outputId": "b039bf4c-b94e-476f-8f29-ec6e0a6590b1"
      },
      "source": [
        "#if they have a zero file length,\n",
        "# they will not be copied over\n",
        "# os.listdir(DIRECTORY) gives you a listing of the contents of that directory\n",
        "# os.path.getsize(PATH) gives you the size of the file\n",
        "# copyfile(source, destination) copies a file from source to destination\n",
        "# random.sample(list, len(list)) shuffles a list\n",
        "def split_data(SOURCE, TRAINING, VALIDATION, SPLIT_SIZE):\n",
        "\n",
        "    files = []\n",
        "    for filename in os.listdir(SOURCE):\n",
        "        file = SOURCE + filename\n",
        "        if os.path.getsize(file) > 0:\n",
        "            files.append(filename)\n",
        "        else:\n",
        "            print(filename + \" is zero length, so ignoring.\")\n",
        "\n",
        "    training_length = int(len(files) * SPLIT_SIZE)\n",
        "    validation_length = int(len(files) - training_length)\n",
        "    shuffled_set = random.sample(files, len(files))\n",
        "    training_set = shuffled_set[0:training_length]\n",
        "    validation_set = shuffled_set[-validation_length:]\n",
        "\n",
        "    for filename in training_set:\n",
        "        this_file = SOURCE + filename\n",
        "        destination = TRAINING + filename\n",
        "        shutil.move(this_file, destination)\n",
        "\n",
        "    for filename in validation_set:\n",
        "        this_file = SOURCE + filename\n",
        "        destination = VALIDATION + filename\n",
        "        shutil.move(this_file, destination)\n",
        "\n",
        "\n",
        "\n",
        "AKIEC_SOURCE_DIR = \"/content/drive/My Drive/Colab Notebooks/ TASK 3/Training/AKIEC/\"\n",
        "BCC_SOURCE_DIR = \"/content/drive/My Drive/Colab Notebooks/ TASK 3/Training/BCC/\"\n",
        "BKL_SOURCE_DIR = \"/content/drive/My Drive/Colab Notebooks/ TASK 3/Training/BKL/\"\n",
        "DF_SOURCE_DIR = \"/content/drive/My Drive/Colab Notebooks/ TASK 3/Training/DF/\"\n",
        "MEL_SOURCE_DIR = \"/content/drive/My Drive/Colab Notebooks/ TASK 3/Training/MEL/\"\n",
        "NV_SOURCE_DIR = \"/content/drive/My Drive/Colab Notebooks/ TASK 3/Training/NV/\"\n",
        "VASC_SOURCE_DIR = \"/content/drive/My Drive/Colab Notebooks/ TASK 3/Training/VASC/\"\n",
        "\n",
        "TRAINING_AKIEC_DIR = \"/content/drive/My Drive/Colab Notebooks/Classification/Skin_Cancer/training/AKIEC/\"\n",
        "TRAINING_BCC_DIR = \"/content/drive/My Drive/Colab Notebooks/Classification/Skin_Cancer/training/BCC/\"\n",
        "TRAINING_BKL_DIR = \"/content/drive/My Drive/Colab Notebooks/Classification/Skin_Cancer/training/BKL/\"\n",
        "TRAINING_DF_DIR = \"/content/drive/My Drive/Colab Notebooks/Classification/Skin_Cancer/training/DF/\"\n",
        "TRAINING_MEL_DIR = \"/content/drive/My Drive/Colab Notebooks/Classification/Skin_Cancer/training/MEL/\"\n",
        "TRAINING_NV_DIR = \"/content/drive/My Drive/Colab Notebooks/Classification/Skin_Cancer/training/NV/\"\n",
        "TRAINING_VASC_DIR = \"/content/drive/My Drive/Colab Notebooks/Classification/Skin_Cancer/training/VASC/\"\n",
        "\n",
        "VALIDATION_AKIEC_DIR = \"/content/drive/My Drive/Colab Notebooks/Classification/Skin_Cancer/validation/AKIEC/\"\n",
        "VALIDATION_BCC_DIR = \"/content/drive/My Drive/Colab Notebooks/Classification/Skin_Cancer/validation/BCC/\"\n",
        "VALIDATION_BKL_DIR = \"/content/drive/My Drive/Colab Notebooks/Classification/Skin_Cancer/validation/BKL/\"\n",
        "VALIDATION_DF_DIR = \"/content/drive/My Drive/Colab Notebooks/Classification/Skin_Cancer/validation/DF/\"\n",
        "VALIDATION_MEL_DIR = \"/content/drive/My Drive/Colab Notebooks/Classification/Skin_Cancer/validation/MEL/\"\n",
        "VALIDATION_NV_DIR = \"/content/drive/My Drive/Colab Notebooks/Classification/Skin_Cancer/validation/NV/\"\n",
        "VALIDATION_VASC_DIR = \"/content/drive/My Drive/Colab Notebooks/Classification/Skin_Cancer/validation/VASC/\"\n",
        "\n",
        "split_size = .9\n",
        "split_data(AKIEC_SOURCE_DIR, TRAINING_AKIEC_DIR, VALIDATION_AKIEC_DIR, split_size)\n",
        "print(\"DONE!\")\n",
        "split_data(BCC_SOURCE_DIR, TRAINING_BCC_DIR, VALIDATION_BCC_DIR, split_size)\n",
        "print(\"DONE!\")\n",
        "split_data(BKL_SOURCE_DIR, TRAINING_BKL_DIR, VALIDATION_BKL_DIR, split_size)\n",
        "print(\"DONE!\")\n",
        "split_data(DF_SOURCE_DIR, TRAINING_DF_DIR, VALIDATION_DF_DIR, split_size)\n",
        "print(\"DONE!\")\n",
        "split_data(MEL_SOURCE_DIR, TRAINING_MEL_DIR, VALIDATION_MEL_DIR, split_size)\n",
        "print(\"DONE!\")\n",
        "split_data(NV_SOURCE_DIR, TRAINING_NV_DIR, VALIDATION_NV_DIR, split_size)\n",
        "print(\"DONE!\")\n",
        "split_data(VASC_SOURCE_DIR, TRAINING_VASC_DIR, VALIDATION_VASC_DIR, split_size)\n",
        "print(\"DONE!\")"
      ],
      "execution_count": null,
      "outputs": [
        {
          "output_type": "stream",
          "text": [
            "DONE!\n",
            "DONE!\n",
            "DONE!\n",
            "DONE!\n",
            "DONE!\n",
            "DONE!\n",
            "DONE!\n"
          ],
          "name": "stdout"
        }
      ]
    },
    {
      "cell_type": "code",
      "metadata": {
        "id": "sc59OuBgYeg7",
        "colab_type": "code",
        "colab": {
          "base_uri": "https://localhost:8080/",
          "height": 319
        },
        "outputId": "01e83fb2-5579-460d-f6ae-84e0fef59627"
      },
      "source": [
        "#Number of images of various classses in the training and validation directories\n",
        "AKIEC_VAL=len(os.listdir('/content/drive/My Drive/Colab Notebooks/Classification/Skin_Cancer/training/AKIEC/'))\n",
        "print(AKIEC_VAL)\n",
        "BCC_VAL=len(os.listdir('/content/drive/My Drive/Colab Notebooks/Classification/Skin_Cancer/training/BCC/'))\n",
        "print(BCC_VAL)\n",
        "BKL_VAL=len(os.listdir('/content/drive/My Drive/Colab Notebooks/Classification/Skin_Cancer/training/BKL/'))\n",
        "print(BKL_VAL)\n",
        "DF_VAL=len(os.listdir('/content/drive/My Drive/Colab Notebooks/Classification/Skin_Cancer/training/DF/'))\n",
        "print(DF_VAL)\n",
        "MEL_VAL=len(os.listdir('/content/drive/My Drive/Colab Notebooks/Classification/Skin_Cancer/training/MEL/'))\n",
        "print(MEL_VAL)\n",
        "NV_VAL=len(os.listdir('/content/drive/My Drive/Colab Notebooks/Classification/Skin_Cancer/training/NV/'))\n",
        "print(NV_VAL)\n",
        "VASC_VAL=len(os.listdir('/content/drive/My Drive/Colab Notebooks/Classification/Skin_Cancer/training/VASC/'))\n",
        "print(VASC_VAL)\n",
        "total_training=AKIEC_VAL+BCC_VAL+BKL_VAL+DF_VAL+MEL_VAL+NV_VAL+VASC_VAL\n",
        "print(\"Total number of training images=\")\n",
        "print(total_training)\n",
        "AKIEC_VAL=len(os.listdir('/content/drive/My Drive/Colab Notebooks/Classification/Skin_Cancer/validation/AKIEC/'))\n",
        "print(AKIEC_VAL)\n",
        "BCC_VAL=len(os.listdir('/content/drive/My Drive/Colab Notebooks/Classification/Skin_Cancer/validation/BCC/'))\n",
        "print(BCC_VAL)\n",
        "BKL_VAL=len(os.listdir('/content/drive/My Drive/Colab Notebooks/Classification/Skin_Cancer/validation/BKL/'))\n",
        "print(BKL_VAL)\n",
        "DF_VAL=len(os.listdir('/content/drive/My Drive/Colab Notebooks/Classification/Skin_Cancer/validation/DF/'))\n",
        "print(DF_VAL)\n",
        "MEL_VAL=len(os.listdir('/content/drive/My Drive/Colab Notebooks/Classification/Skin_Cancer/validation/MEL/'))\n",
        "print(MEL_VAL)\n",
        "NV_VAL=len(os.listdir('/content/drive/My Drive/Colab Notebooks/Classification/Skin_Cancer/validation/NV/'))\n",
        "print(NV_VAL)\n",
        "VASC_VAL=len(os.listdir('/content/drive/My Drive/Colab Notebooks/Classification/Skin_Cancer/validation/VASC/'))\n",
        "print(VASC_VAL)\n",
        "total_validation=AKIEC_VAL+BCC_VAL+BKL_VAL+DF_VAL+MEL_VAL+NV_VAL+VASC_VAL\n",
        "print(\"Total number of validation images=\")\n",
        "print(total_validation)\n"
      ],
      "execution_count": null,
      "outputs": [
        {
          "output_type": "stream",
          "text": [
            "954\n",
            "2977\n",
            "1999\n",
            "214\n",
            "3528\n",
            "6034\n",
            "227\n",
            "Total number of training images=\n",
            "15933\n",
            "106\n",
            "331\n",
            "223\n",
            "24\n",
            "392\n",
            "671\n",
            "26\n",
            "Total number of validation images=\n",
            "1773\n"
          ],
          "name": "stdout"
        }
      ]
    }
  ]
}